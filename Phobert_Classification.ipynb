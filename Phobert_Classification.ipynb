{
 "cells": [
  {
   "cell_type": "code",
   "execution_count": 34,
   "metadata": {},
   "outputs": [
    {
     "name": "stdout",
     "output_type": "stream",
     "text": [
      "Requirement already satisfied: flask in c:\\users\\asus\\appdata\\roaming\\python\\python312\\site-packages (3.0.3)Note: you may need to restart the kernel to use updated packages.\n",
      "\n",
      "Requirement already satisfied: Werkzeug>=3.0.0 in c:\\users\\asus\\appdata\\roaming\\python\\python312\\site-packages (from flask) (3.0.2)\n",
      "Requirement already satisfied: Jinja2>=3.1.2 in c:\\users\\asus\\appdata\\roaming\\python\\python312\\site-packages (from flask) (3.1.3)\n",
      "Requirement already satisfied: itsdangerous>=2.1.2 in c:\\users\\asus\\appdata\\roaming\\python\\python312\\site-packages (from flask) (2.1.2)\n",
      "Requirement already satisfied: click>=8.1.3 in c:\\users\\asus\\appdata\\roaming\\python\\python312\\site-packages (from flask) (8.1.7)\n",
      "Requirement already satisfied: blinker>=1.6.2 in c:\\users\\asus\\appdata\\roaming\\python\\python312\\site-packages (from flask) (1.7.0)\n",
      "Requirement already satisfied: colorama in c:\\users\\asus\\appdata\\roaming\\python\\python312\\site-packages (from click>=8.1.3->flask) (0.4.6)\n",
      "Requirement already satisfied: MarkupSafe>=2.0 in c:\\users\\asus\\appdata\\roaming\\python\\python312\\site-packages (from Jinja2>=3.1.2->flask) (2.1.5)\n"
     ]
    }
   ],
   "source": [
    "# %pip install pandas\n",
    "# %pip install openpyxl\n",
    "# %pip install transformers torch scikit-learn\n",
    "# %pip install torch==2.2.0\n",
    "# %pip install seaborn matplotlib\n",
    "%pip install flask"
   ]
  },
  {
   "cell_type": "code",
   "execution_count": 30,
   "metadata": {},
   "outputs": [],
   "source": [
    "import pandas as pd\n",
    "import numpy as np\n",
    "import string\n",
    "import re\n",
    "import tqdm\n",
    "\n",
    "from sklearn.preprocessing import LabelEncoder\n",
    "from transformers import AdamW, AutoModelForSequenceClassification\n",
    "from torch.utils.data import TensorDataset, DataLoader\n",
    "from sklearn.metrics import accuracy_score\n",
    "import torch\n",
    "from transformers import AutoTokenizer\n",
    "import torch.nn as nn\n",
    "import torch.optim as optim\n",
    "import matplotlib.pyplot as plt\n",
    "import seaborn as sns"
   ]
  },
  {
   "cell_type": "code",
   "execution_count": 2,
   "metadata": {},
   "outputs": [
    {
     "data": {
      "text/html": [
       "<div>\n",
       "<style scoped>\n",
       "    .dataframe tbody tr th:only-of-type {\n",
       "        vertical-align: middle;\n",
       "    }\n",
       "\n",
       "    .dataframe tbody tr th {\n",
       "        vertical-align: top;\n",
       "    }\n",
       "\n",
       "    .dataframe thead th {\n",
       "        text-align: right;\n",
       "    }\n",
       "</style>\n",
       "<table border=\"1\" class=\"dataframe\">\n",
       "  <thead>\n",
       "    <tr style=\"text-align: right;\">\n",
       "      <th></th>\n",
       "      <th>Content</th>\n",
       "      <th>Conclusion</th>\n",
       "    </tr>\n",
       "  </thead>\n",
       "  <tbody>\n",
       "    <tr>\n",
       "      <th>1</th>\n",
       "      <td>Dạ ac cho e hỏi là e là SV năm nhất nhưng em đ...</td>\n",
       "      <td>Yes</td>\n",
       "    </tr>\n",
       "    <tr>\n",
       "      <th>2</th>\n",
       "      <td>Đêm về mong nhớ không xong rồi anh lỡ trao trá...</td>\n",
       "      <td>No</td>\n",
       "    </tr>\n",
       "    <tr>\n",
       "      <th>3</th>\n",
       "      <td>Cho e hỏi đi hk quân sự là hk tại trường 1 thá...</td>\n",
       "      <td>Yes</td>\n",
       "    </tr>\n",
       "    <tr>\n",
       "      <th>4</th>\n",
       "      <td>Tuy mờ vaio nhưng mà vẫn muốn xin inf bạn nữ đ...</td>\n",
       "      <td>No</td>\n",
       "    </tr>\n",
       "    <tr>\n",
       "      <th>5</th>\n",
       "      <td>Cho e hỏi nên học tiếng anh ở trường k ạ</td>\n",
       "      <td>Yes</td>\n",
       "    </tr>\n",
       "    <tr>\n",
       "      <th>...</th>\n",
       "      <td>...</td>\n",
       "      <td>...</td>\n",
       "    </tr>\n",
       "    <tr>\n",
       "      <th>4565</th>\n",
       "      <td>Góc nhượng phòng: \\nChào mọi người, mình muốn ...</td>\n",
       "      <td>No</td>\n",
       "    </tr>\n",
       "    <tr>\n",
       "      <th>4566</th>\n",
       "      <td>Tìm phòng ở ghép ạ\\nem là svien K64 neu \\ncó a...</td>\n",
       "      <td>No</td>\n",
       "    </tr>\n",
       "    <tr>\n",
       "      <th>4567</th>\n",
       "      <td>🐮 Góc tìm roommate \\nHiện tại tớ là nữ K64 muố...</td>\n",
       "      <td>No</td>\n",
       "    </tr>\n",
       "    <tr>\n",
       "      <th>4568</th>\n",
       "      <td>Mình vừa đi đổi size quân phục và nhận ra mình...</td>\n",
       "      <td>No</td>\n",
       "    </tr>\n",
       "    <tr>\n",
       "      <th>4569</th>\n",
       "      <td>Ra quân 😬😬\\nẢnh: Sota trong khu vực bạn đó</td>\n",
       "      <td>No</td>\n",
       "    </tr>\n",
       "  </tbody>\n",
       "</table>\n",
       "<p>4569 rows × 2 columns</p>\n",
       "</div>"
      ],
      "text/plain": [
       "                                                Content Conclusion\n",
       "1     Dạ ac cho e hỏi là e là SV năm nhất nhưng em đ...        Yes\n",
       "2     Đêm về mong nhớ không xong rồi anh lỡ trao trá...         No\n",
       "3     Cho e hỏi đi hk quân sự là hk tại trường 1 thá...        Yes\n",
       "4     Tuy mờ vaio nhưng mà vẫn muốn xin inf bạn nữ đ...         No\n",
       "5              Cho e hỏi nên học tiếng anh ở trường k ạ        Yes\n",
       "...                                                 ...        ...\n",
       "4565  Góc nhượng phòng: \\nChào mọi người, mình muốn ...         No\n",
       "4566  Tìm phòng ở ghép ạ\\nem là svien K64 neu \\ncó a...         No\n",
       "4567  🐮 Góc tìm roommate \\nHiện tại tớ là nữ K64 muố...         No\n",
       "4568  Mình vừa đi đổi size quân phục và nhận ra mình...         No\n",
       "4569         Ra quân 😬😬\\nẢnh: Sota trong khu vực bạn đó         No\n",
       "\n",
       "[4569 rows x 2 columns]"
      ]
     },
     "execution_count": 2,
     "metadata": {},
     "output_type": "execute_result"
    }
   ],
   "source": [
    "df = pd.read_excel('../nckhsv_2023.xlsx')\n",
    "df.columns = ['Content', 'Conclusion', 'Người thu thập']\n",
    "df = df.drop(columns=['Người thu thập'])\n",
    "df = df.drop(0)\n",
    "df"
   ]
  },
  {
   "cell_type": "code",
   "execution_count": 3,
   "metadata": {},
   "outputs": [],
   "source": [
    "df['Content'] = df['Content'].apply(lambda x: x.lower() if isinstance(x, str) else x)"
   ]
  },
  {
   "cell_type": "code",
   "execution_count": 4,
   "metadata": {},
   "outputs": [],
   "source": [
    "def remove_punctuation(text):\n",
    "    if isinstance(text, str):\n",
    "        for i in string.punctuation:\n",
    "            if i in text:\n",
    "                text = text.replace(i,'')        \n",
    "    return text\n",
    "\n",
    "df['Content'] = df['Content'].apply(remove_punctuation)"
   ]
  },
  {
   "cell_type": "code",
   "execution_count": 5,
   "metadata": {},
   "outputs": [],
   "source": [
    "def remove_emoji(data):\n",
    "    emoj = re.compile(\"[\"\n",
    "        u\"\\U0001F600-\\U0001F64F\"  # emoticons\n",
    "        u\"\\U0001F300-\\U0001F5FF\"  # symbols & pictographs\n",
    "        u\"\\U0001F680-\\U0001F6FF\"  # transport & map symbols\n",
    "        u\"\\U0001F1E0-\\U0001F1FF\"  # flags (iOS)\n",
    "        u\"\\U00002500-\\U00002BEF\"  # chinese char\n",
    "        u\"\\U00002702-\\U000027B0\"\n",
    "        u\"\\U00002702-\\U000027B0\"\n",
    "        u\"\\U000024C2-\\U0001F251\"\n",
    "        u\"\\U0001f926-\\U0001f937\"\n",
    "        u\"\\U00010000-\\U0010ffff\"\n",
    "        u\"\\u2640-\\u2642\" \n",
    "        u\"\\u2600-\\u2B55\"\n",
    "        u\"\\u200d\"\n",
    "        u\"\\u23cf\"\n",
    "        u\"\\u23e9\"\n",
    "        u\"\\u231a\"\n",
    "        u\"\\ufe0f\"  \n",
    "        u\"\\u3030\"\n",
    "                      \"]+\", re.UNICODE)\n",
    "    return re.sub(emoj, '', data)\n",
    "\n",
    "df['Content'] = df['Content'].apply(lambda x: remove_emoji(str(x)))"
   ]
  },
  {
   "cell_type": "code",
   "execution_count": 6,
   "metadata": {},
   "outputs": [
    {
     "name": "stderr",
     "output_type": "stream",
     "text": [
      "<>:7: SyntaxWarning: invalid escape sequence '\\s'\n",
      "<>:7: SyntaxWarning: invalid escape sequence '\\s'\n",
      "C:\\Users\\Asus\\AppData\\Local\\Temp\\ipykernel_144\\1054685402.py:7: SyntaxWarning: invalid escape sequence '\\s'\n",
      "  df['Content'] = df['Content'].apply(lambda x: re.sub('\\s+', ' ', x).strip())\n"
     ]
    },
    {
     "data": {
      "text/html": [
       "<div>\n",
       "<style scoped>\n",
       "    .dataframe tbody tr th:only-of-type {\n",
       "        vertical-align: middle;\n",
       "    }\n",
       "\n",
       "    .dataframe tbody tr th {\n",
       "        vertical-align: top;\n",
       "    }\n",
       "\n",
       "    .dataframe thead th {\n",
       "        text-align: right;\n",
       "    }\n",
       "</style>\n",
       "<table border=\"1\" class=\"dataframe\">\n",
       "  <thead>\n",
       "    <tr style=\"text-align: right;\">\n",
       "      <th></th>\n",
       "      <th>Content</th>\n",
       "      <th>Conclusion</th>\n",
       "    </tr>\n",
       "  </thead>\n",
       "  <tbody>\n",
       "    <tr>\n",
       "      <th>1</th>\n",
       "      <td>dạ ac cho e hỏi là e là sv năm nhất nhưng em đ...</td>\n",
       "      <td>Yes</td>\n",
       "    </tr>\n",
       "    <tr>\n",
       "      <th>2</th>\n",
       "      <td>đêm về mong nhớ không xong rồi anh lỡ trao trá...</td>\n",
       "      <td>No</td>\n",
       "    </tr>\n",
       "    <tr>\n",
       "      <th>3</th>\n",
       "      <td>cho e hỏi đi hk quân sự là hk tại trường 1 thá...</td>\n",
       "      <td>Yes</td>\n",
       "    </tr>\n",
       "    <tr>\n",
       "      <th>4</th>\n",
       "      <td>tuy mờ vaio nhưng mà vẫn muốn xin inf bạn nữ đ...</td>\n",
       "      <td>No</td>\n",
       "    </tr>\n",
       "    <tr>\n",
       "      <th>5</th>\n",
       "      <td>cho e hỏi nên học tiếng anh ở trường k ạ</td>\n",
       "      <td>Yes</td>\n",
       "    </tr>\n",
       "  </tbody>\n",
       "</table>\n",
       "</div>"
      ],
      "text/plain": [
       "                                             Content Conclusion\n",
       "1  dạ ac cho e hỏi là e là sv năm nhất nhưng em đ...        Yes\n",
       "2  đêm về mong nhớ không xong rồi anh lỡ trao trá...         No\n",
       "3  cho e hỏi đi hk quân sự là hk tại trường 1 thá...        Yes\n",
       "4  tuy mờ vaio nhưng mà vẫn muốn xin inf bạn nữ đ...         No\n",
       "5           cho e hỏi nên học tiếng anh ở trường k ạ        Yes"
      ]
     },
     "execution_count": 6,
     "metadata": {},
     "output_type": "execute_result"
    }
   ],
   "source": [
    "df['Content'] = df['Content'].astype(str)\n",
    "\n",
    "# Điền giá trị NaN vào các ô dữ liệu bị thiếu\n",
    "df['Content'] = df['Content'].fillna('')\n",
    "\n",
    "# Áp dụng hàm loại bỏ khoảng trắng thừa vào cột 'Ten'\n",
    "df['Content'] = df['Content'].apply(lambda x: re.sub('\\s+', ' ', x).strip())\n",
    "\n",
    "df.head()"
   ]
  },
  {
   "cell_type": "code",
   "execution_count": 7,
   "metadata": {},
   "outputs": [
    {
     "data": {
      "text/html": [
       "<div>\n",
       "<style scoped>\n",
       "    .dataframe tbody tr th:only-of-type {\n",
       "        vertical-align: middle;\n",
       "    }\n",
       "\n",
       "    .dataframe tbody tr th {\n",
       "        vertical-align: top;\n",
       "    }\n",
       "\n",
       "    .dataframe thead th {\n",
       "        text-align: right;\n",
       "    }\n",
       "</style>\n",
       "<table border=\"1\" class=\"dataframe\">\n",
       "  <thead>\n",
       "    <tr style=\"text-align: right;\">\n",
       "      <th></th>\n",
       "      <th>Content</th>\n",
       "      <th>Conclusion</th>\n",
       "    </tr>\n",
       "  </thead>\n",
       "  <tbody>\n",
       "    <tr>\n",
       "      <th>1</th>\n",
       "      <td>dạ anh chị cho em hỏi là em là sinh viên năm n...</td>\n",
       "      <td>Yes</td>\n",
       "    </tr>\n",
       "    <tr>\n",
       "      <th>2</th>\n",
       "      <td>đêm về mong nhớ không xong rồi anh lỡ trao trá...</td>\n",
       "      <td>No</td>\n",
       "    </tr>\n",
       "    <tr>\n",
       "      <th>3</th>\n",
       "      <td>cho em hỏi đi học kỳ quân sự là học kỳ tại trư...</td>\n",
       "      <td>Yes</td>\n",
       "    </tr>\n",
       "    <tr>\n",
       "      <th>4</th>\n",
       "      <td>tuy mờ vaio nhưng mà vẫn muốn xin inf bạn nữ đ...</td>\n",
       "      <td>No</td>\n",
       "    </tr>\n",
       "    <tr>\n",
       "      <th>5</th>\n",
       "      <td>cho em hỏi nên học tiếng anh ở trường không ạ</td>\n",
       "      <td>Yes</td>\n",
       "    </tr>\n",
       "  </tbody>\n",
       "</table>\n",
       "</div>"
      ],
      "text/plain": [
       "                                             Content Conclusion\n",
       "1  dạ anh chị cho em hỏi là em là sinh viên năm n...        Yes\n",
       "2  đêm về mong nhớ không xong rồi anh lỡ trao trá...         No\n",
       "3  cho em hỏi đi học kỳ quân sự là học kỳ tại trư...        Yes\n",
       "4  tuy mờ vaio nhưng mà vẫn muốn xin inf bạn nữ đ...         No\n",
       "5      cho em hỏi nên học tiếng anh ở trường không ạ        Yes"
      ]
     },
     "execution_count": 7,
     "metadata": {},
     "output_type": "execute_result"
    }
   ],
   "source": [
    "def remove_abb(data):\n",
    "    data = re.sub(r\"\\bko\\b\", \"không\", data)\n",
    "    data = re.sub(r\"\\bmk\\b\", \"mình\", data)\n",
    "    data = re.sub(r\"\\be\\b\", \"em\", data)\n",
    "    data = re.sub(r\"\\biu\\b\", \"yêu\", data)\n",
    "    data = re.sub(r\"\\bb\\b\", \"bạn\", data)\n",
    "    data = re.sub(r\"\\bad\\b\", \"admin\", data)\n",
    "    data = re.sub(r\"\\bng\\b\", \"người\", data)\n",
    "    data = re.sub(r\"\\bhh\\b\", \"học hộ\", data)\n",
    "    data = re.sub(r\"\\bcnxh\\b\", \"chủ nghĩa xã hội\", data)\n",
    "    data = re.sub(r\"\\bbhyt\\b\", \"bảo hiểm y tế\", data)\n",
    "    data = re.sub(r\"\\bbt\\b\", \"biết\", data)\n",
    "    data = re.sub(r\"\\bib\\b\", \"inbox\", data)\n",
    "    data = re.sub(r\"\\bin4\\b\", \"info\", data)\n",
    "    data = re.sub(r\"\\bktx\\b\", \"kí túc xá\", data)\n",
    "    data = re.sub(r\"\\bny\\b\", \"người yêu\", data)\n",
    "    data = re.sub(r\"\\bvc\\b\", \"việc\", data)\n",
    "    data = re.sub(r\"\\btrg\\b\", \"trường\", data)\n",
    "    data = re.sub(r\"\\bfb\\b\", \"facebook\", data)\n",
    "    data = re.sub(r\"\\bmn\\b\", \"mọi người\", data)\n",
    "    data = re.sub(r\"\\bib\\b\", \"inbox\", data)\n",
    "    data = re.sub(r\"\\bqldt\\b\", \"quản lý đào tạo\", data)\n",
    "    data = re.sub(r\"\\bk\\b\", \"không\", data)\n",
    "    data = re.sub(r\"\\bđc\\b\", \"được\", data)\n",
    "    data = re.sub(r\"\\bak\\b\", \"ạ\", data)\n",
    "    data = re.sub(r\"\\bm\\b\", \"mình\", data)\n",
    "    data = re.sub(r\"\\banqp\\b\", \"an ninh quốc phòng\", data)\n",
    "    data = re.sub(r\"\\bgdtc\\b\", \"giáo dục thể chất\", data)\n",
    "    data = re.sub(r\"\\bbb\\b\", \"bạn bè\", data)\n",
    "    data = re.sub(r\"\\ba.c\\b\", \"anh chị\", data)\n",
    "    data = re.sub(r\"\\bac\\b\", \"anh chị\", data)\n",
    "    data = re.sub(r\"\\bng\\b\", \"người\", data)\n",
    "    data = re.sub(r\"\\bntnt\\b\", \"như thế nào\", data)\n",
    "    data = re.sub(r\"\\br\\b\", \"rồi\", data)\n",
    "    data = re.sub(r\"\\bhok\\b\", \"học\", data)\n",
    "    data = re.sub(r\"\\btp\\b\", \"thành phần\", data)\n",
    "    data = re.sub(r\"\\bh\\b\", \"giờ\", data)\n",
    "    data = re.sub(r\"\\bace\\b\", \"anh chị em\", data)\n",
    "    data = re.sub(r\"\\bbâyh\\b\", \"bây giờ\", data)\n",
    "    data = re.sub(r\"\\bm.n\\b\", \"mọi người\", data)\n",
    "    data = re.sub(r\"\\ba/c\\b\", \"anh chị\", data)\n",
    "    data = re.sub(r\"\\btl\\b\", \"trả lời\", data)\n",
    "    data = re.sub(r\"\\bbh\\b\", \"bây giờ\", data)\n",
    "    data = re.sub(r\"\\ba\\b\", \"anh\", data)\n",
    "    data = re.sub(r\"\\ba/c/e\\b\", \"anh chị em\", data)\n",
    "    data = re.sub(r\"\\bxl\\b\", \"xin lỗi\", data)\n",
    "    #data = re.sub(r\"\\bđk\\b\", \"đăng ký\")\n",
    "    data = re.sub(r\"\\bô\\b\", \"ông\", data)\n",
    "    #data = re.sub(r\"\\bsđt\\b\", \"số điện thoại\", data)\n",
    "    data = re.sub(r\"\\bgd\\b\", \"gia đình\", data)\n",
    "    data = re.sub(r\"\\bđki\\b\", \"đăng ký\", data)\n",
    "    data = re.sub(r\"\\bcmt\\b\", \"bình luận\", data)\n",
    "    data = re.sub(r\"\\bnt\\b\", \"nhắn tin\", data)\n",
    "    data = re.sub(r\"\\bhk\\b\", \"học kỳ\", data)\n",
    "    data = re.sub(r\"\\btnao\\b\", \"thế nào\", data)\n",
    "    data = re.sub(r\"\\bt.p\\b\", \"thành phần\", data)\n",
    "    data = re.sub(r\"\\bdstt\\b\", \"đại số tuyến tính\", data)\n",
    "    data = re.sub(r\"\\bvly\\b\", \"vật lý\", data)\n",
    "    data = re.sub(r\"\\bbtl\\b\", \"bài tập lớn\", data)\n",
    "    data = re.sub(r\"\\bhnay\\b\", \"hôm nay\", data)\n",
    "    data = re.sub(r\"\\bsv\\b\", \"sinh viên\", data)\n",
    "    data = re.sub(r\"\\bsp\\b\", \"hỗ trợ\", data)\n",
    "    data = re.sub(r\"\\bdkk\\b\", \"được\", data)\n",
    "    data = re.sub(r\"\\brr\\b\", \"rời rạc\", data)\n",
    "    data = re.sub(r\"\\biem\\b\", \"em\", data)\n",
    "    data = re.sub(r\"\\bclb\\b\", \"câu lạc bộ\", data)\n",
    "    data = re.sub(r\"\\bmik\\b\", \"mình\", data)\n",
    "    data = re.sub(r\"\\bcfs\\b\", \"confession\", data)\n",
    "    data = re.sub(r\"\\bwen\\b\", \"quen\", data)\n",
    "    data = re.sub(r\"\\bcc\\b\", \"chứng chỉ\", data)\n",
    "    return data\n",
    "\n",
    "df['Content'] = df['Content'].apply(remove_abb)\n",
    "df.head()"
   ]
  },
  {
   "cell_type": "code",
   "execution_count": 8,
   "metadata": {},
   "outputs": [
    {
     "data": {
      "text/plain": [
       "array([1, 0])"
      ]
     },
     "execution_count": 8,
     "metadata": {},
     "output_type": "execute_result"
    }
   ],
   "source": [
    "labelEncoder = LabelEncoder()\n",
    "df['Conclusion'] = labelEncoder.fit_transform(df['Conclusion'])\n",
    "df = df.drop(df[(df['Conclusion'] == 2) | (df['Conclusion'] == 3)].index)\n",
    "df['Conclusion'].unique()"
   ]
  },
  {
   "cell_type": "code",
   "execution_count": 10,
   "metadata": {},
   "outputs": [
    {
     "name": "stdout",
     "output_type": "stream",
     "text": [
      "6706\n"
     ]
    }
   ],
   "source": [
    "max_len = 0\n",
    "for index, row in df.iterrows():\n",
    "    text_len = len(row['Content'])\n",
    "    if text_len > max_len:\n",
    "        max_len = text_len\n",
    "\n",
    "print(max_len)"
   ]
  },
  {
   "cell_type": "code",
   "execution_count": 9,
   "metadata": {},
   "outputs": [
    {
     "name": "stdout",
     "output_type": "stream",
     "text": [
      "{'input_ids': tensor([[    0, 10705,    83,  ...,     1,     1,     1],\n",
      "        [    0,   396,    28,  ...,     1,     1,     1],\n",
      "        [    0,    13,   193,  ...,     1,     1,     1],\n",
      "        ...,\n",
      "        [    0,  1638,   240,  ...,     1,     1,     1],\n",
      "        [    0,    68,   164,  ...,     1,     1,     1],\n",
      "        [    0,    40,   829,  ...,     1,     1,     1]]), 'token_type_ids': tensor([[0, 0, 0,  ..., 0, 0, 0],\n",
      "        [0, 0, 0,  ..., 0, 0, 0],\n",
      "        [0, 0, 0,  ..., 0, 0, 0],\n",
      "        ...,\n",
      "        [0, 0, 0,  ..., 0, 0, 0],\n",
      "        [0, 0, 0,  ..., 0, 0, 0],\n",
      "        [0, 0, 0,  ..., 0, 0, 0]]), 'attention_mask': tensor([[1, 1, 1,  ..., 0, 0, 0],\n",
      "        [1, 1, 1,  ..., 0, 0, 0],\n",
      "        [1, 1, 1,  ..., 0, 0, 0],\n",
      "        ...,\n",
      "        [1, 1, 1,  ..., 0, 0, 0],\n",
      "        [1, 1, 1,  ..., 0, 0, 0],\n",
      "        [1, 1, 1,  ..., 0, 0, 0]])}\n"
     ]
    }
   ],
   "source": [
    "# Step 2: Tokenization and Encoding\n",
    "\n",
    "tokenizer = AutoTokenizer.from_pretrained('vinai/phobert-base')\n",
    "\n",
    "tokens = tokenizer.batch_encode_plus(\n",
    "    df['Content'].tolist(),\n",
    "    padding=\"max_length\",\n",
    "    truncation=True,\n",
    "    max_length=256,\n",
    "    return_tensors='pt',\n",
    ")\n",
    "\n",
    "print(tokens)\n",
    "\n",
    "input_ids = tokens['input_ids']\n",
    "token_type_ids = tokens['token_type_ids']\n",
    "attention_mask = tokens['attention_mask']"
   ]
  },
  {
   "cell_type": "code",
   "execution_count": 10,
   "metadata": {},
   "outputs": [
    {
     "name": "stdout",
     "output_type": "stream",
     "text": [
      "torch.Size([4544, 256])\n",
      "torch.Size([4544, 256])\n",
      "torch.Size([4544, 256])\n"
     ]
    }
   ],
   "source": [
    "print(input_ids.shape)\n",
    "print(token_type_ids.shape)\n",
    "print(attention_mask.shape)"
   ]
  },
  {
   "cell_type": "code",
   "execution_count": 11,
   "metadata": {},
   "outputs": [
    {
     "name": "stdout",
     "output_type": "stream",
     "text": [
      "torch.Size([3635, 256])\n",
      "torch.Size([3635, 256])\n",
      "torch.Size([3635])\n",
      "torch.Size([3635, 256])\n"
     ]
    },
    {
     "name": "stderr",
     "output_type": "stream",
     "text": [
      "C:\\Users\\Asus\\AppData\\Local\\Temp\\ipykernel_144\\3351076661.py:3: UserWarning: To copy construct from a tensor, it is recommended to use sourceTensor.clone().detach() or sourceTensor.clone().detach().requires_grad_(True), rather than torch.tensor(sourceTensor).\n",
      "  train_input_ids = torch.tensor(input_ids[:train_size])\n",
      "C:\\Users\\Asus\\AppData\\Local\\Temp\\ipykernel_144\\3351076661.py:4: UserWarning: To copy construct from a tensor, it is recommended to use sourceTensor.clone().detach() or sourceTensor.clone().detach().requires_grad_(True), rather than torch.tensor(sourceTensor).\n",
      "  train_attention_mask = torch.tensor(attention_mask[:train_size])\n",
      "C:\\Users\\Asus\\AppData\\Local\\Temp\\ipykernel_144\\3351076661.py:5: UserWarning: To copy construct from a tensor, it is recommended to use sourceTensor.clone().detach() or sourceTensor.clone().detach().requires_grad_(True), rather than torch.tensor(sourceTensor).\n",
      "  train_token_type_ids = torch.tensor(token_type_ids[:train_size])\n",
      "C:\\Users\\Asus\\AppData\\Local\\Temp\\ipykernel_144\\3351076661.py:13: UserWarning: To copy construct from a tensor, it is recommended to use sourceTensor.clone().detach() or sourceTensor.clone().detach().requires_grad_(True), rather than torch.tensor(sourceTensor).\n",
      "  val_input_ids = torch.tensor(input_ids[train_size:])\n",
      "C:\\Users\\Asus\\AppData\\Local\\Temp\\ipykernel_144\\3351076661.py:14: UserWarning: To copy construct from a tensor, it is recommended to use sourceTensor.clone().detach() or sourceTensor.clone().detach().requires_grad_(True), rather than torch.tensor(sourceTensor).\n",
      "  val_attention_mask = torch.tensor(attention_mask[train_size:])\n",
      "C:\\Users\\Asus\\AppData\\Local\\Temp\\ipykernel_144\\3351076661.py:15: UserWarning: To copy construct from a tensor, it is recommended to use sourceTensor.clone().detach() or sourceTensor.clone().detach().requires_grad_(True), rather than torch.tensor(sourceTensor).\n",
      "  val_token_type_ids = torch.tensor(token_type_ids[train_size:])\n"
     ]
    }
   ],
   "source": [
    "# Step 3: Splitting the Data\n",
    "train_size = int(0.8 * len(df['Content'].tolist()))\n",
    "train_input_ids = torch.tensor(input_ids[:train_size])\n",
    "train_attention_mask = torch.tensor(attention_mask[:train_size])\n",
    "train_token_type_ids = torch.tensor(token_type_ids[:train_size])\n",
    "train_labels = torch.tensor(df['Conclusion'].tolist()[:train_size])\n",
    "\n",
    "print(train_input_ids.shape)\n",
    "print(train_attention_mask.shape)\n",
    "print(train_labels.shape)\n",
    "print(train_token_type_ids.shape)\n",
    "\n",
    "val_input_ids = torch.tensor(input_ids[train_size:])\n",
    "val_attention_mask = torch.tensor(attention_mask[train_size:])\n",
    "val_token_type_ids = torch.tensor(token_type_ids[train_size:])\n",
    "val_labels = torch.tensor(df['Conclusion'].tolist()[train_size:])"
   ]
  },
  {
   "cell_type": "code",
   "execution_count": 12,
   "metadata": {},
   "outputs": [
    {
     "name": "stdout",
     "output_type": "stream",
     "text": [
      "<torch.utils.data.dataloader.DataLoader object at 0x000002147088E180>\n"
     ]
    }
   ],
   "source": [
    "# Step 4: Creating Datasets and Data Loaders\n",
    "train_dataset = TensorDataset(train_input_ids, train_attention_mask, train_labels)\n",
    "val_dataset = TensorDataset(val_input_ids, val_attention_mask, val_labels)\n",
    "\n",
    "batch_size = 2\n",
    "\n",
    "train_dataloader = DataLoader(train_dataset, batch_size=batch_size, shuffle=True)\n",
    "val_dataloader = DataLoader(val_dataset, batch_size=batch_size, shuffle=False)\n",
    "\n",
    "print(train_dataloader)"
   ]
  },
  {
   "cell_type": "code",
   "execution_count": 13,
   "metadata": {},
   "outputs": [
    {
     "name": "stderr",
     "output_type": "stream",
     "text": [
      "Some weights of RobertaForSequenceClassification were not initialized from the model checkpoint at vinai/phobert-base and are newly initialized: ['classifier.dense.bias', 'classifier.dense.weight', 'classifier.out_proj.bias', 'classifier.out_proj.weight']\n",
      "You should probably TRAIN this model on a down-stream task to be able to use it for predictions and inference.\n",
      "C:\\Users\\Asus\\AppData\\Roaming\\Python\\Python312\\site-packages\\transformers\\optimization.py:521: FutureWarning: This implementation of AdamW is deprecated and will be removed in a future version. Use the PyTorch implementation torch.optim.AdamW instead, or set `no_deprecation_warning=True` to disable this warning\n",
      "  warnings.warn(\n"
     ]
    }
   ],
   "source": [
    "# Step 5: Model Initialization and Optimizer\n",
    "num_classes = 2\n",
    "\n",
    "from transformers import AutoConfig\n",
    "\n",
    "model = AutoModelForSequenceClassification.from_pretrained('vinai/phobert-base')\n",
    "optimizer = AdamW(model.parameters(), lr=2e-5)\n",
    "\n",
    "\n"
   ]
  },
  {
   "cell_type": "code",
   "execution_count": 14,
   "metadata": {},
   "outputs": [],
   "source": [
    "# print(model)\n",
    "# for name, param in model.named_parameters():\n",
    "#     print(name, param.shape)\n",
    "\n",
    "model.config.max_position_embeddings = 256\n",
    "# model.config.vocab_size = len(tokenizer)\n",
    "# model.config.vocab_size\n"
   ]
  },
  {
   "cell_type": "code",
   "execution_count": 15,
   "metadata": {},
   "outputs": [
    {
     "name": "stdout",
     "output_type": "stream",
     "text": [
      "256\n"
     ]
    }
   ],
   "source": [
    "# for name, param in model.named_parameters():\n",
    "#     print(name, param.shape)\n",
    "print(model.config.max_position_embeddings)"
   ]
  },
  {
   "cell_type": "code",
   "execution_count": 16,
   "metadata": {},
   "outputs": [
    {
     "name": "stdout",
     "output_type": "stream",
     "text": [
      "Epoch 1/3\n",
      "Train loss: 0.4157 | Val loss: 0.3709 | Val accuracy: 0.8328\n",
      "Epoch 2/3\n",
      "Train loss: 0.3404 | Val loss: 0.3424 | Val accuracy: 0.8383\n",
      "Epoch 3/3\n",
      "Train loss: 0.3040 | Val loss: 0.3444 | Val accuracy: 0.8240\n"
     ]
    }
   ],
   "source": [
    "num_epochs = 3\n",
    "device = torch.device('cuda' if torch.cuda.is_available() else 'cpu')\n",
    "model.to(device)\n",
    "criterion = nn.CrossEntropyLoss()\n",
    "\n",
    "for epoch in range(num_epochs):\n",
    "    model.train()\n",
    "    train_loss = 0.0\n",
    "\n",
    "    for batch in train_dataloader:\n",
    "        batch_input_ids, batch_attention_mask, batch_labels = batch\n",
    "        batch_input_ids = batch_input_ids.to(device)\n",
    "        batch_attention_mask = batch_attention_mask.to(device)\n",
    "        batch_labels = batch_labels.to(device)\n",
    "\n",
    "        \n",
    "        optimizer.zero_grad()\n",
    "        outputs = model(input_ids=batch_input_ids, attention_mask=batch_attention_mask, labels=batch_labels)\n",
    "\n",
    "        logits = outputs.logits\n",
    "        loss = criterion(logits, batch_labels)  # Sử dụng hàm mất mát CrossEntropyLoss\n",
    "\n",
    "        loss.backward()\n",
    "        optimizer.step()\n",
    "\n",
    "        train_loss += loss.item()\n",
    "\n",
    "    train_loss /= len(train_dataloader)\n",
    "\n",
    "    # Validation and Evaluation\n",
    "    model.eval()\n",
    "    val_loss = 0.0\n",
    "    val_preds = []\n",
    "    val_true = []\n",
    "\n",
    "    with torch.no_grad():\n",
    "        for batch in val_dataloader:\n",
    "            batch_input_ids, batch_attention_mask, batch_labels = batch\n",
    "            batch_input_ids = batch_input_ids.to(device)\n",
    "            batch_attention_mask = batch_attention_mask.to(device)\n",
    "            batch_labels = batch_labels.to(device)\n",
    "            \n",
    "            outputs = model(input_ids=batch_input_ids, attention_mask=batch_attention_mask, labels=batch_labels)\n",
    "            logits = outputs.logits\n",
    "\n",
    "            loss = criterion(logits, batch_labels)  \n",
    "            val_loss += loss.item()\n",
    "\n",
    "            _, preds = torch.max(logits, dim=1)\n",
    "            val_preds.extend(preds.cpu().numpy())\n",
    "            val_true.extend(batch_labels.cpu().numpy())\n",
    "\n",
    "        val_loss /= len(val_dataloader)\n",
    "        val_acc = accuracy_score(val_true, val_preds)\n",
    "\n",
    "    print(f'Epoch {epoch + 1}/{num_epochs}')\n",
    "    print(f'Train loss: {train_loss:.4f} | Val loss: {val_loss:.4f} | Val accuracy: {val_acc:.4f}')"
   ]
  },
  {
   "cell_type": "code",
   "execution_count": 26,
   "metadata": {},
   "outputs": [],
   "source": [
    "import pickle\n",
    "\n",
    "with open('modelBert.pkl', 'wb') as f:\n",
    "    pickle.dump(model, f)"
   ]
  },
  {
   "cell_type": "code",
   "execution_count": 36,
   "metadata": {},
   "outputs": [
    {
     "name": "stdout",
     "output_type": "stream",
     "text": [
      "2.3.0+cpu\n"
     ]
    }
   ],
   "source": [
    "print(torch.__version__)"
   ]
  },
  {
   "cell_type": "code",
   "execution_count": 25,
   "metadata": {},
   "outputs": [],
   "source": [
    "# Save model:\n",
    "torch.save(model.state_dict(), 'ten_file.pth')"
   ]
  },
  {
   "cell_type": "code",
   "execution_count": 33,
   "metadata": {},
   "outputs": [
    {
     "name": "stderr",
     "output_type": "stream",
     "text": [
      "Some weights of RobertaForSequenceClassification were not initialized from the model checkpoint at vinai/phobert-base and are newly initialized: ['classifier.dense.bias', 'classifier.dense.weight', 'classifier.out_proj.bias', 'classifier.out_proj.weight']\n",
      "You should probably TRAIN this model on a down-stream task to be able to use it for predictions and inference.\n"
     ]
    },
    {
     "data": {
      "text/plain": [
       "RobertaForSequenceClassification(\n",
       "  (roberta): RobertaModel(\n",
       "    (embeddings): RobertaEmbeddings(\n",
       "      (word_embeddings): Embedding(64001, 768, padding_idx=1)\n",
       "      (position_embeddings): Embedding(258, 768, padding_idx=1)\n",
       "      (token_type_embeddings): Embedding(1, 768)\n",
       "      (LayerNorm): LayerNorm((768,), eps=1e-05, elementwise_affine=True)\n",
       "      (dropout): Dropout(p=0.1, inplace=False)\n",
       "    )\n",
       "    (encoder): RobertaEncoder(\n",
       "      (layer): ModuleList(\n",
       "        (0-11): 12 x RobertaLayer(\n",
       "          (attention): RobertaAttention(\n",
       "            (self): RobertaSelfAttention(\n",
       "              (query): Linear(in_features=768, out_features=768, bias=True)\n",
       "              (key): Linear(in_features=768, out_features=768, bias=True)\n",
       "              (value): Linear(in_features=768, out_features=768, bias=True)\n",
       "              (dropout): Dropout(p=0.1, inplace=False)\n",
       "            )\n",
       "            (output): RobertaSelfOutput(\n",
       "              (dense): Linear(in_features=768, out_features=768, bias=True)\n",
       "              (LayerNorm): LayerNorm((768,), eps=1e-05, elementwise_affine=True)\n",
       "              (dropout): Dropout(p=0.1, inplace=False)\n",
       "            )\n",
       "          )\n",
       "          (intermediate): RobertaIntermediate(\n",
       "            (dense): Linear(in_features=768, out_features=3072, bias=True)\n",
       "            (intermediate_act_fn): GELUActivation()\n",
       "          )\n",
       "          (output): RobertaOutput(\n",
       "            (dense): Linear(in_features=3072, out_features=768, bias=True)\n",
       "            (LayerNorm): LayerNorm((768,), eps=1e-05, elementwise_affine=True)\n",
       "            (dropout): Dropout(p=0.1, inplace=False)\n",
       "          )\n",
       "        )\n",
       "      )\n",
       "    )\n",
       "  )\n",
       "  (classifier): RobertaClassificationHead(\n",
       "    (dense): Linear(in_features=768, out_features=768, bias=True)\n",
       "    (dropout): Dropout(p=0.1, inplace=False)\n",
       "    (out_proj): Linear(in_features=768, out_features=2, bias=True)\n",
       "  )\n",
       ")"
      ]
     },
     "execution_count": 33,
     "metadata": {},
     "output_type": "execute_result"
    }
   ],
   "source": [
    "# Load lại model:\n",
    "check_point = torch.load('ten_file.pth')\n",
    "modelBert = AutoModelForSequenceClassification.from_pretrained('vinai/phobert-base')\n",
    "modelBert.load_state_dict(check_point)\n",
    "\n",
    "# Đảm bảo rằng mô hình đã được chuyển đến cùng một thiết bị\n",
    "device = torch.device('cuda' if torch.cuda.is_available() else 'cpu')\n",
    "model.to(device)"
   ]
  },
  {
   "cell_type": "code",
   "execution_count": null,
   "metadata": {},
   "outputs": [],
   "source": []
  },
  {
   "cell_type": "code",
   "execution_count": 27,
   "metadata": {},
   "outputs": [
    {
     "name": "stdout",
     "output_type": "stream",
     "text": [
      "Accuracy: 0.823982398239824\n",
      "Precision: 0.5582191780821918\n",
      "Recall: 0.8402061855670103\n",
      "F1-score: 0.6707818930041153\n",
      "Confusion matrix:\n",
      " [[586 129]\n",
      " [ 31 163]]\n"
     ]
    }
   ],
   "source": [
    "from sklearn.metrics import accuracy_score, precision_score, recall_score, f1_score, confusion_matrix\n",
    "\n",
    "val_preds = []\n",
    "val_true = []\n",
    "\n",
    "with torch.no_grad():\n",
    "    for batch in val_dataloader:\n",
    "        batch_input_ids, batch_attention_mask, batch_labels = batch\n",
    "        batch_input_ids = batch_input_ids.to(device)\n",
    "        batch_attention_mask = batch_attention_mask.to(device)\n",
    "        \n",
    "        outputs = model(input_ids=batch_input_ids, attention_mask=batch_attention_mask)\n",
    "        logits = outputs.logits\n",
    "\n",
    "        _, preds = torch.max(logits, dim=1)\n",
    "        val_preds.extend(preds.cpu().numpy())\n",
    "        val_true.extend(batch_labels.cpu().numpy())\n",
    "\n",
    "# Tính toán các độ đo đánh giá\n",
    "accuracy = accuracy_score(val_true, val_preds)\n",
    "precision = precision_score(val_true, val_preds)\n",
    "recall = recall_score(val_true, val_preds)\n",
    "f1 = f1_score(val_true, val_preds)\n",
    "conf_matrix = confusion_matrix(val_true, val_preds)\n",
    "\n",
    "print(\"Accuracy:\", accuracy)\n",
    "print(\"Precision:\", precision)\n",
    "print(\"Recall:\", recall)\n",
    "print(\"F1-score:\", f1)\n",
    "print(\"Confusion matrix:\\n\", conf_matrix)"
   ]
  },
  {
   "cell_type": "code",
   "execution_count": 31,
   "metadata": {},
   "outputs": [
    {
     "data": {
      "image/png": "[encoded data removed]",
      "text/plain": [
       "<Figure size 800x600 with 2 Axes>"
      ]
     },
     "metadata": {},
     "output_type": "display_data"
    }
   ],
   "source": [
    "# Tính toán confusion matrix\n",
    "conf_matrix = confusion_matrix(val_true, val_preds)\n",
    "\n",
    "# Tạo DataFrame từ confusion matrix\n",
    "conf_df = pd.DataFrame(conf_matrix, index = ['True 0', 'True 1'], columns = ['Predicted 0', 'Predicted 1'])\n",
    "\n",
    "# Vẽ heatmap với seaborn\n",
    "plt.figure(figsize=(8, 6))\n",
    "sns.heatmap(conf_df, annot=True, cmap=\"Blues\", fmt='g')\n",
    "plt.xlabel('Predicted label')\n",
    "plt.ylabel('True label')\n",
    "plt.title('Confusion Matrix')\n",
    "plt.show()"
   ]
  },
  {
   "cell_type": "code",
   "execution_count": 38,
   "metadata": {},
   "outputs": [
    {
     "name": "stdout",
     "output_type": "stream",
     "text": [
      " * Serving Flask app '__main__'\n",
      " * Debug mode: on\n"
     ]
    },
    {
     "name": "stderr",
     "output_type": "stream",
     "text": [
      "WARNING: This is a development server. Do not use it in a production deployment. Use a production WSGI server instead.\n",
      " * Running on http://127.0.0.1:5000\n",
      "Press CTRL+C to quit\n",
      " * Restarting with stat\n"
     ]
    },
    {
     "ename": "SystemExit",
     "evalue": "1",
     "output_type": "error",
     "traceback": [
      "An exception has occurred, use %tb to see the full traceback.\n",
      "\u001b[1;31mSystemExit\u001b[0m\u001b[1;31m:\u001b[0m 1\n"
     ]
    }
   ],
   "source": [
    "import flask\n",
    "\n",
    "app = flask.Flask(__name__)\n",
    "\n",
    "def preprocessData(x):\n",
    "    x = x.lower() if isinstance(x, str) else x\n",
    "    if isinstance(x, str):\n",
    "        for i in string.punctuation:\n",
    "            if i in x:\n",
    "                x = x.replace(i,'')\n",
    "    x = remove_emoji(x)\n",
    "    x = remove_abb(x)\n",
    "    return x\n",
    "    \n",
    "\n",
    "@app.post('/predict')\n",
    "def predict():\n",
    "    data = flask.request.json\n",
    "\n",
    "    text = data[\"text\"]\n",
    "    text = preprocessData(text)\n",
    "    text = tokenizer.batch_encode_plus(text, padding=\"max_length\", truncation=True, max_length=256, return_tensors='pt')\n",
    "\n",
    "    input_ids = text['input_ids']\n",
    "    attention_mask = text['attention_mask']\n",
    "\n",
    "    with torch.no_grad():\n",
    "        outputs = model(input_ids=input_ids, attention_mask=attention_mask)\n",
    "        logits = outputs.logits\n",
    "        probabilities = torch.softmax(logits, dim=1)\n",
    "\n",
    "    predicted_class = torch.argmax(probabilities, dim=1).item()\n",
    "\n",
    "    # Trả về kết quả dự đoán dưới dạng JSON\n",
    "    return flask.jsonify({'predicted_class': predicted_class})\n",
    "\n",
    "if __name__ == '__main__':\n",
    "    app.run(debug=True)"
   ]
  }
 ],
 "metadata": {
  "kernelspec": {
   "display_name": "Python 3",
   "language": "python",
   "name": "python3"
  },
  "language_info": {
   "codemirror_mode": {
    "name": "ipython",
    "version": 3
   },
   "file_extension": ".py",
   "mimetype": "text/x-python",
   "name": "python",
   "nbconvert_exporter": "python",
   "pygments_lexer": "ipython3",
   "version": "3.12.3"
  }
 },
 "nbformat": 4,
 "nbformat_minor": 2
}
